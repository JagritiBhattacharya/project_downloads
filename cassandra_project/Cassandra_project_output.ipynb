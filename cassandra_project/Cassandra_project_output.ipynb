{
 "cells": [
  {
   "cell_type": "markdown",
   "metadata": {},
   "source": [
    "# Part I. ETL Pipeline for Pre-Processing the Files"
   ]
  },
  {
   "cell_type": "markdown",
   "metadata": {},
   "source": [
    "## PLEASE RUN THE FOLLOWING CODE FOR PRE-PROCESSING THE FILES"
   ]
  },
  {
   "cell_type": "markdown",
   "metadata": {},
   "source": [
    "#### Import Python packages "
   ]
  },
  {
   "cell_type": "code",
   "execution_count": 1,
   "metadata": {},
   "outputs": [],
   "source": [
    "# Import Python packages \n",
    "import pandas as pd\n",
    "import cassandra\n",
    "import re\n",
    "import os\n",
    "import glob\n",
    "import numpy as np\n",
    "import json\n",
    "import csv"
   ]
  },
  {
   "cell_type": "markdown",
   "metadata": {},
   "source": [
    "#### Creating list of filepaths to process original event csv data files"
   ]
  },
  {
   "cell_type": "code",
   "execution_count": 2,
   "metadata": {},
   "outputs": [
    {
     "name": "stdout",
     "output_type": "stream",
     "text": [
      "/home/workspace\n",
      "30 /home/workspace/event_data/2018-11-27-events.csv\n"
     ]
    }
   ],
   "source": [
    "# checking your current working directory\n",
    "print(os.getcwd())\n",
    "\n",
    "# Get your current folder and subfolder event data\n",
    "filepath = os.getcwd() + '/event_data'\n",
    "\n",
    "# Create a for loop to create a list of files and collect each filepath\n",
    "for root, dirs, files in os.walk(filepath):\n",
    "    \n",
    "# join the file path and roots with the subdirectories using glob\n",
    "    file_path_list = glob.glob(os.path.join(root,'*'))\n",
    "print(len(file_path_list), file_path_list[0])"
   ]
  },
  {
   "cell_type": "markdown",
   "metadata": {},
   "source": [
    "#### Processing the files to create the data file csv that will be used for Apache Casssandra tables"
   ]
  },
  {
   "cell_type": "code",
   "execution_count": 3,
   "metadata": {},
   "outputs": [
    {
     "name": "stdout",
     "output_type": "stream",
     "text": [
      "8056\n"
     ]
    }
   ],
   "source": [
    "# initiating an empty list of rows that will be generated from each file\n",
    "full_data_rows_list = [] \n",
    "    \n",
    "# for every filepath in the file path list \n",
    "for f in file_path_list:\n",
    "\n",
    "# reading csv file \n",
    "    with open(f, 'r', encoding = 'utf8', newline='') as csvfile: \n",
    "        # creating a csv reader object \n",
    "        csvreader = csv.reader(csvfile) \n",
    "        next(csvreader)\n",
    "        \n",
    " # extracting each data row one by one and append it        \n",
    "        for line in csvreader:\n",
    "            #print(line)\n",
    "            full_data_rows_list.append(line) \n",
    "            \n",
    "# uncomment the code below if you would like to get total number of rows \n",
    "print(len(full_data_rows_list))\n",
    "# uncomment the code below if you would like to check to see what the list of event data rows will look like\n",
    "# print(full_data_rows_list)\n",
    "\n",
    "# creating a smaller event data csv file called event_datafile_full csv that will be used to insert data into the \\\n",
    "# Apache Cassandra tables\n",
    "csv.register_dialect('myDialect', quoting=csv.QUOTE_ALL, skipinitialspace=True)\n",
    "\n",
    "with open('event_datafile_new.csv', 'w', encoding = 'utf8', newline='') as f:\n",
    "    writer = csv.writer(f, dialect='myDialect')\n",
    "    writer.writerow(['artist','firstName','gender','itemInSession','lastName','length',\\\n",
    "                'level','location','sessionId','song','userId'])\n",
    "    for row in full_data_rows_list:\n",
    "        if (row[0] == ''):\n",
    "            continue\n",
    "        writer.writerow((row[0], row[2], row[3], row[4], row[5], row[6], row[7], row[8], row[12], row[13], row[16]))\n"
   ]
  },
  {
   "cell_type": "code",
   "execution_count": 4,
   "metadata": {},
   "outputs": [
    {
     "name": "stdout",
     "output_type": "stream",
     "text": [
      "6821\n"
     ]
    },
    {
     "data": {
      "text/html": [
       "<div>\n",
       "<style scoped>\n",
       "    .dataframe tbody tr th:only-of-type {\n",
       "        vertical-align: middle;\n",
       "    }\n",
       "\n",
       "    .dataframe tbody tr th {\n",
       "        vertical-align: top;\n",
       "    }\n",
       "\n",
       "    .dataframe thead th {\n",
       "        text-align: right;\n",
       "    }\n",
       "</style>\n",
       "<table border=\"1\" class=\"dataframe\">\n",
       "  <thead>\n",
       "    <tr style=\"text-align: right;\">\n",
       "      <th></th>\n",
       "      <th>artist</th>\n",
       "      <th>firstName</th>\n",
       "      <th>gender</th>\n",
       "      <th>itemInSession</th>\n",
       "      <th>lastName</th>\n",
       "      <th>length</th>\n",
       "      <th>level</th>\n",
       "      <th>location</th>\n",
       "      <th>sessionId</th>\n",
       "      <th>song</th>\n",
       "      <th>userId</th>\n",
       "    </tr>\n",
       "  </thead>\n",
       "  <tbody>\n",
       "    <tr>\n",
       "      <th>0</th>\n",
       "      <td>Barry Tuckwell/Academy of St Martin-in-the-Fie...</td>\n",
       "      <td>Mohammad</td>\n",
       "      <td>M</td>\n",
       "      <td>0</td>\n",
       "      <td>Rodriguez</td>\n",
       "      <td>277.15873</td>\n",
       "      <td>paid</td>\n",
       "      <td>Sacramento--Roseville--Arden-Arcade, CA</td>\n",
       "      <td>961</td>\n",
       "      <td>Horn Concerto No. 4 in E flat K495: II. Romanc...</td>\n",
       "      <td>88</td>\n",
       "    </tr>\n",
       "    <tr>\n",
       "      <th>1</th>\n",
       "      <td>Jimi Hendrix</td>\n",
       "      <td>Mohammad</td>\n",
       "      <td>M</td>\n",
       "      <td>1</td>\n",
       "      <td>Rodriguez</td>\n",
       "      <td>239.82975</td>\n",
       "      <td>paid</td>\n",
       "      <td>Sacramento--Roseville--Arden-Arcade, CA</td>\n",
       "      <td>961</td>\n",
       "      <td>Woodstock Inprovisation</td>\n",
       "      <td>88</td>\n",
       "    </tr>\n",
       "    <tr>\n",
       "      <th>2</th>\n",
       "      <td>Building 429</td>\n",
       "      <td>Mohammad</td>\n",
       "      <td>M</td>\n",
       "      <td>2</td>\n",
       "      <td>Rodriguez</td>\n",
       "      <td>300.61669</td>\n",
       "      <td>paid</td>\n",
       "      <td>Sacramento--Roseville--Arden-Arcade, CA</td>\n",
       "      <td>961</td>\n",
       "      <td>Majesty (LP Version)</td>\n",
       "      <td>88</td>\n",
       "    </tr>\n",
       "    <tr>\n",
       "      <th>3</th>\n",
       "      <td>The B-52's</td>\n",
       "      <td>Gianna</td>\n",
       "      <td>F</td>\n",
       "      <td>0</td>\n",
       "      <td>Jones</td>\n",
       "      <td>321.54077</td>\n",
       "      <td>free</td>\n",
       "      <td>New York-Newark-Jersey City, NY-NJ-PA</td>\n",
       "      <td>107</td>\n",
       "      <td>Love Shack</td>\n",
       "      <td>38</td>\n",
       "    </tr>\n",
       "    <tr>\n",
       "      <th>4</th>\n",
       "      <td>Die Mooskirchner</td>\n",
       "      <td>Gianna</td>\n",
       "      <td>F</td>\n",
       "      <td>1</td>\n",
       "      <td>Jones</td>\n",
       "      <td>169.29914</td>\n",
       "      <td>free</td>\n",
       "      <td>New York-Newark-Jersey City, NY-NJ-PA</td>\n",
       "      <td>107</td>\n",
       "      <td>Frisch und g'sund</td>\n",
       "      <td>38</td>\n",
       "    </tr>\n",
       "  </tbody>\n",
       "</table>\n",
       "</div>"
      ],
      "text/plain": [
       "                                              artist firstName gender  \\\n",
       "0  Barry Tuckwell/Academy of St Martin-in-the-Fie...  Mohammad      M   \n",
       "1                                       Jimi Hendrix  Mohammad      M   \n",
       "2                                       Building 429  Mohammad      M   \n",
       "3                                         The B-52's    Gianna      F   \n",
       "4                                   Die Mooskirchner    Gianna      F   \n",
       "\n",
       "   itemInSession   lastName     length level  \\\n",
       "0              0  Rodriguez  277.15873  paid   \n",
       "1              1  Rodriguez  239.82975  paid   \n",
       "2              2  Rodriguez  300.61669  paid   \n",
       "3              0      Jones  321.54077  free   \n",
       "4              1      Jones  169.29914  free   \n",
       "\n",
       "                                  location  sessionId  \\\n",
       "0  Sacramento--Roseville--Arden-Arcade, CA        961   \n",
       "1  Sacramento--Roseville--Arden-Arcade, CA        961   \n",
       "2  Sacramento--Roseville--Arden-Arcade, CA        961   \n",
       "3    New York-Newark-Jersey City, NY-NJ-PA        107   \n",
       "4    New York-Newark-Jersey City, NY-NJ-PA        107   \n",
       "\n",
       "                                                song  userId  \n",
       "0  Horn Concerto No. 4 in E flat K495: II. Romanc...      88  \n",
       "1                            Woodstock Inprovisation      88  \n",
       "2                               Majesty (LP Version)      88  \n",
       "3                                         Love Shack      38  \n",
       "4                                  Frisch und g'sund      38  "
      ]
     },
     "execution_count": 4,
     "metadata": {},
     "output_type": "execute_result"
    }
   ],
   "source": [
    "# check the number of rows in your csv file\n",
    "with open('event_datafile_new.csv', 'r', encoding = 'utf8') as f:\n",
    "    print(sum(1 for line in f))\n",
    "df = pd.read_csv('event_datafile_new.csv')\n",
    "df.head()\n"
   ]
  },
  {
   "cell_type": "markdown",
   "metadata": {},
   "source": [
    "# Part II. Complete the Apache Cassandra coding portion of your project. \n",
    "\n",
    "## Now you are ready to work with the CSV file titled <font color=red>event_datafile_new.csv</font>, located within the Workspace directory.  The event_datafile_new.csv contains the following columns: \n",
    "- artist \n",
    "- firstName of user\n",
    "- gender of user\n",
    "- item number in session\n",
    "- last name of user\n",
    "- length of the song\n",
    "- level (paid or free song)\n",
    "- location of the user\n",
    "- sessionId\n",
    "- song title\n",
    "- userId\n",
    "\n",
    "The image below is a screenshot of what the denormalized data should appear like in the <font color=red>**event_datafile_new.csv**</font> after the code above is run:<br>\n",
    "\n",
    "<img src=\"images/image_event_datafile_new.jpg\">"
   ]
  },
  {
   "cell_type": "markdown",
   "metadata": {},
   "source": [
    "## Begin writing your Apache Cassandra code in the cells below"
   ]
  },
  {
   "cell_type": "markdown",
   "metadata": {},
   "source": [
    "#### Creating a Cluster"
   ]
  },
  {
   "cell_type": "code",
   "execution_count": 5,
   "metadata": {},
   "outputs": [],
   "source": [
    "# This should make a connection to a Cassandra instance your local machine \n",
    "# (127.0.0.1)\n",
    "\n",
    "from cassandra.cluster import Cluster\n",
    "cluster = Cluster()\n",
    "\n",
    "# To establish connection and begin executing queries, need a session\n",
    "session = cluster.connect()"
   ]
  },
  {
   "cell_type": "code",
   "execution_count": 6,
   "metadata": {},
   "outputs": [],
   "source": [
    "# Utility function\n",
    "def get_insert_values_from_line(line, columns, file_columns):\n",
    "    '''\n",
    "    Example:\n",
    "        line = ['Barry Tuckwell/Academy of St Martin-in-the-Fields/Sir Neville Marriner', \n",
    "        'Mohammad', 'M', '0', 'Rodriguez', '277.15873', 'paid', 'Sacramento--Roseville--Arden-Arcade, CA', \n",
    "        '961', 'Horn Concerto No. 4 in E flat K495: II. Romance (Andante cantabile)', '88']\n",
    "\n",
    "        columns = [('sessionId', int), \n",
    "                   ('itemInSession', int), \n",
    "                   ('artist', str), \n",
    "                   ('song', str), \n",
    "                   ('length', float)]\n",
    "\n",
    "        file_columns = ['artist', 'firstName', 'gender', 'itemInSession', \n",
    "        'lastName', 'length', 'level', 'location', 'sessionId', 'song', 'userId']\n",
    "\n",
    "        output of this function = (961, 0, 'Barry Tuckwell/Academy of St Martin-in-the-Fields/Sir Neville Marriner',\n",
    "        'Horn Concerto No. 4 in E flat K495: II. Romance (Andante cantabile)', 277.15873)\n",
    "    \n",
    "    Args:\n",
    "        line : This is a line from a csv file\n",
    "        columns: A two element tuple of column name and python data transformation that needs to be applied\n",
    "        file_columns: All columns that map to all data in line\n",
    "        \n",
    "    Returns:\n",
    "        A tuple with all transformation applied to the denoted columns in the columns inpute argument\n",
    "    \n",
    "    '''\n",
    "    output = [func(line[file_columns.index(x)]) for x, func in columns]\n",
    "    return tuple(output)\n",
    "\n",
    "# runs any query\n",
    "def run_query(query):\n",
    "    try:\n",
    "        results = session.execute(query)\n",
    "    except Exception as e:\n",
    "        print(e)\n",
    "    return results"
   ]
  },
  {
   "cell_type": "markdown",
   "metadata": {},
   "source": [
    "#### Create Keyspace"
   ]
  },
  {
   "cell_type": "code",
   "execution_count": 7,
   "metadata": {},
   "outputs": [
    {
     "data": {
      "text/plain": [
       "<cassandra.cluster.ResultSet at 0x7fbf3c522160>"
      ]
     },
     "execution_count": 7,
     "metadata": {},
     "output_type": "execute_result"
    }
   ],
   "source": [
    "# DROP the keyspace\n",
    "query = '''\n",
    "DROP KEYSPACE IF EXISTS udacity_project;\n",
    "'''\n",
    "run_query(query)\n",
    "\n",
    "# Create a Keyspace \n",
    "query = '''\n",
    "    CREATE KEYSPACE IF NOT EXISTS udacity_project\n",
    "    WITH REPLICATION = {\n",
    "    'class': 'SimpleStrategy',\n",
    "    'replication_factor': 1\n",
    "    }\n",
    "    \n",
    "    '''\n",
    "\n",
    "run_query(query)"
   ]
  },
  {
   "cell_type": "markdown",
   "metadata": {},
   "source": [
    "#### Set Keyspace"
   ]
  },
  {
   "cell_type": "code",
   "execution_count": 8,
   "metadata": {},
   "outputs": [],
   "source": [
    "# Set KEYSPACE to the keyspace specified above\n",
    "try:\n",
    "    session.set_keyspace('udacity_project')\n",
    "except Exception as e:\n",
    "    print(e)\n"
   ]
  },
  {
   "cell_type": "markdown",
   "metadata": {},
   "source": [
    "### Now we need to create tables to run the following queries. Remember, with Apache Cassandra you model the database tables on the queries you want to run."
   ]
  },
  {
   "cell_type": "markdown",
   "metadata": {},
   "source": [
    "## Create queries to ask the following three questions of the data\n",
    "\n",
    "### 1. Give me the artist, song title and song's length in the music app history that was heard during  sessionId = 338, and itemInSession  = 4\n",
    "\n",
    "\n",
    "### 2. Give me only the following: name of artist, song (sorted by itemInSession) and user (first and last name) for userid = 10, sessionid = 182\n",
    "    \n",
    "\n",
    "### 3. Give me every user name (first and last) in my music app history who listened to the song 'All Hands Against His Own'\n",
    "\n",
    "\n"
   ]
  },
  {
   "cell_type": "code",
   "execution_count": 9,
   "metadata": {
    "scrolled": false
   },
   "outputs": [],
   "source": [
    "# Doing creation, insertion and selection once in a workflow\n",
    "def workflow_run(table_name, create_query, insert_query, select_query, \n",
    "                 column_transformations, selection_attrs):\n",
    "    \n",
    "    '''\n",
    "    Args:\n",
    "        table_name: Table name of the workflow scenario\n",
    "        create_query: A CQL query to create tables\n",
    "        insert_query: A CQL query to insert data in table\n",
    "        select_query: A CQL query to select data from table\n",
    "        column_transformation: A two element tuple list where\n",
    "            1. First element: Name of column that needs to be extracted from csv file line\n",
    "            2. Second element: A python function to transform the column value to appropriate value\n",
    "        selecton_attrs: A list of columns on which selection happens\n",
    "    \n",
    "    Returns:\n",
    "        None\n",
    "        \n",
    "    Working:\n",
    "        This function simulates a scenario where Create, Insert and Select queries are\n",
    "        executed sequentially and the results are reported\n",
    "    '''\n",
    "    \n",
    "    \n",
    "    \n",
    "    from IPython.display import display\n",
    "    run_query(create_query)\n",
    "    print(\"Ran create query, table {} should be created by now\".format(table_name))\n",
    "    \n",
    "    # We have provided part of the code to set up the CSV file. Please complete the Apache Cassandra code below#\n",
    "    file = 'event_datafile_new.csv'\n",
    "    df = pd.read_csv(file)\n",
    "    file_columns = df.columns.tolist()\n",
    "\n",
    "    with open(file, encoding = 'utf8') as f:\n",
    "        csvreader = csv.reader(f)\n",
    "        next(csvreader) # skip header\n",
    "        for line in csvreader:\n",
    "            session.execute(insert_query, get_insert_values_from_line(line, column_transformations, file_columns))\n",
    "            \n",
    "    print(\"Ran insert query, insertions in table should be complete by now\")\n",
    "    rows = run_query(select_query)\n",
    "    out = []\n",
    "    for row in rows:\n",
    "        out.append([getattr(row,s) for s in selection_attrs if hasattr(row, s)])\n",
    "    \n",
    "    print(\"Data read complete\")\n",
    "    display(pd.DataFrame(out, columns=selection_attrs))\n",
    "    \n"
   ]
  },
  {
   "cell_type": "code",
   "execution_count": 10,
   "metadata": {},
   "outputs": [
    {
     "name": "stdout",
     "output_type": "stream",
     "text": [
      "Ran create query, table session_library should be created by now\n",
      "Ran insert query, insertions in table should be complete by now\n",
      "Data read complete\n"
     ]
    },
    {
     "data": {
      "text/html": [
       "<div>\n",
       "<style scoped>\n",
       "    .dataframe tbody tr th:only-of-type {\n",
       "        vertical-align: middle;\n",
       "    }\n",
       "\n",
       "    .dataframe tbody tr th {\n",
       "        vertical-align: top;\n",
       "    }\n",
       "\n",
       "    .dataframe thead th {\n",
       "        text-align: right;\n",
       "    }\n",
       "</style>\n",
       "<table border=\"1\" class=\"dataframe\">\n",
       "  <thead>\n",
       "    <tr style=\"text-align: right;\">\n",
       "      <th></th>\n",
       "      <th>artist_name</th>\n",
       "      <th>song_title</th>\n",
       "      <th>song_length</th>\n",
       "    </tr>\n",
       "  </thead>\n",
       "  <tbody>\n",
       "    <tr>\n",
       "      <th>0</th>\n",
       "      <td>Faithless</td>\n",
       "      <td>Music Matters (Mark Knight Dub)</td>\n",
       "      <td>495.307312</td>\n",
       "    </tr>\n",
       "  </tbody>\n",
       "</table>\n",
       "</div>"
      ],
      "text/plain": [
       "  artist_name                       song_title  song_length\n",
       "0   Faithless  Music Matters (Mark Knight Dub)   495.307312"
      ]
     },
     "metadata": {},
     "output_type": "display_data"
    }
   ],
   "source": [
    "## Query 1:  Give me the artist, song title and song's length in the music app history that was heard during \\\n",
    "## sessionId = 338, and itemInSession = 4\n",
    "\n",
    "'''\n",
    "Query design logic::\n",
    "\n",
    "Choice of Partition keys and clustering columns:\n",
    "    - We see that the query needs to uniquely identify records based on sessionId and itemSessionId\n",
    "    - Therefore we use session id and item session id as our partition key\n",
    "    - No clustering columns are required since we are not sorting data on a node/partition by any column\n",
    "    in the context of this query\n",
    "    \n",
    "Choice of columns for select query:\n",
    "    - We see that the query requires artist, song_title and song's length as the output\n",
    "    - Hence the relevant output parameters are artist_name, song_title and song_length\n",
    "    \n",
    "Filtering columns:\n",
    "    - The where clause is implemented on session_id and item_in_session column (in order)\n",
    "    - This is as per the query specification\n",
    "\n",
    "'''\n",
    "\n",
    "\n",
    "table_name = 'session_library'\n",
    "create_query = '''\n",
    "CREATE TABLE IF NOT EXISTS session_library\n",
    "(session_id int, item_in_session int, artist_name text, song_title text, song_length float, \n",
    "PRIMARY KEY (session_id, item_in_session))\n",
    "'''\n",
    "insert_query = '''INSERT INTO session_library \n",
    "(session_id , item_in_session , artist_name, song_title , song_length) VALUES (%s, %s, %s, %s, %s)'''\n",
    "\n",
    "select_query = '''\n",
    "select artist_name, song_title, song_length from session_library where \n",
    "session_id = 338 and item_in_session = 4\n",
    "'''\n",
    "column_transformations = [('sessionId', int), \n",
    "                          ('itemInSession', int), \n",
    "                          ('artist', str), \n",
    "                          ('song', str), \n",
    "                          ('length', float)]\n",
    "selection_attr = ['artist_name', 'song_title', 'song_length']\n",
    "\n",
    "# Sceanrio 1 query demonstration\n",
    "workflow_run(table_name, \n",
    "             create_query, insert_query, select_query, \n",
    "             column_transformations, selection_attr)"
   ]
  },
  {
   "cell_type": "markdown",
   "metadata": {},
   "source": [
    "#### Do a SELECT to verify that the data have been inserted into each table"
   ]
  },
  {
   "cell_type": "markdown",
   "metadata": {},
   "source": [
    "### COPY AND REPEAT THE ABOVE THREE CELLS FOR EACH OF THE THREE QUESTIONS"
   ]
  },
  {
   "cell_type": "code",
   "execution_count": 11,
   "metadata": {},
   "outputs": [
    {
     "name": "stdout",
     "output_type": "stream",
     "text": [
      "Ran create query, table session_user_library should be created by now\n",
      "Ran insert query, insertions in table should be complete by now\n",
      "Data read complete\n"
     ]
    },
    {
     "data": {
      "text/html": [
       "<div>\n",
       "<style scoped>\n",
       "    .dataframe tbody tr th:only-of-type {\n",
       "        vertical-align: middle;\n",
       "    }\n",
       "\n",
       "    .dataframe tbody tr th {\n",
       "        vertical-align: top;\n",
       "    }\n",
       "\n",
       "    .dataframe thead th {\n",
       "        text-align: right;\n",
       "    }\n",
       "</style>\n",
       "<table border=\"1\" class=\"dataframe\">\n",
       "  <thead>\n",
       "    <tr style=\"text-align: right;\">\n",
       "      <th></th>\n",
       "      <th>artist_name</th>\n",
       "      <th>song_title</th>\n",
       "      <th>first_name</th>\n",
       "      <th>last_name</th>\n",
       "      <th>item_in_session</th>\n",
       "    </tr>\n",
       "  </thead>\n",
       "  <tbody>\n",
       "    <tr>\n",
       "      <th>0</th>\n",
       "      <td>Down To The Bone</td>\n",
       "      <td>Keep On Keepin' On</td>\n",
       "      <td>Sylvie</td>\n",
       "      <td>Cruz</td>\n",
       "      <td>0</td>\n",
       "    </tr>\n",
       "    <tr>\n",
       "      <th>1</th>\n",
       "      <td>Three Drives</td>\n",
       "      <td>Greece 2000</td>\n",
       "      <td>Sylvie</td>\n",
       "      <td>Cruz</td>\n",
       "      <td>1</td>\n",
       "    </tr>\n",
       "    <tr>\n",
       "      <th>2</th>\n",
       "      <td>Sebastien Tellier</td>\n",
       "      <td>Kilometer</td>\n",
       "      <td>Sylvie</td>\n",
       "      <td>Cruz</td>\n",
       "      <td>2</td>\n",
       "    </tr>\n",
       "    <tr>\n",
       "      <th>3</th>\n",
       "      <td>Lonnie Gordon</td>\n",
       "      <td>Catch You Baby (Steve Pitron &amp; Max Sanna Radio...</td>\n",
       "      <td>Sylvie</td>\n",
       "      <td>Cruz</td>\n",
       "      <td>3</td>\n",
       "    </tr>\n",
       "  </tbody>\n",
       "</table>\n",
       "</div>"
      ],
      "text/plain": [
       "         artist_name                                         song_title  \\\n",
       "0   Down To The Bone                                 Keep On Keepin' On   \n",
       "1       Three Drives                                        Greece 2000   \n",
       "2  Sebastien Tellier                                          Kilometer   \n",
       "3      Lonnie Gordon  Catch You Baby (Steve Pitron & Max Sanna Radio...   \n",
       "\n",
       "  first_name last_name  item_in_session  \n",
       "0     Sylvie      Cruz                0  \n",
       "1     Sylvie      Cruz                1  \n",
       "2     Sylvie      Cruz                2  \n",
       "3     Sylvie      Cruz                3  "
      ]
     },
     "metadata": {},
     "output_type": "display_data"
    }
   ],
   "source": [
    "## Query 2: Give me only the following: name of artist, song (sorted by itemInSession) and user (first and last name)\\\n",
    "## for userid = 10, sessionid = 182\n",
    "\n",
    "'''\n",
    "Query design logic::\n",
    "\n",
    "Choice of Partition keys and clustering columns:\n",
    "    - We see that the query needs to uniquely identify records based on user id and session id\n",
    "    - We also recognize that the song needs to be sorted by item session id\n",
    "    - Therefore we use user id and item session id as our partition key\n",
    "    - We use item session id as our clustering column since it is required to sort the data on nodes in the context of this query\n",
    "    \n",
    "Choice of columns for select query:\n",
    "    - We see that the query requires artist name, song_title and user's first and last name as the output\n",
    "    - Hence the relevant output parameters are artist_name, song_title, first_name and last_name\n",
    "\n",
    "Filtering columns:\n",
    "    - The where clause is implemented on user_id and session_id column (in order)\n",
    "    - This is as per the query specification\n",
    "'''\n",
    "\n",
    "table_name = 'session_user_library'\n",
    "column_transformations = [('userId', str), ('sessionId', int), ('artist', str), \n",
    "                 ('song', str), ('itemInSession', int), ('firstName', str), ('lastName', str)]\n",
    "create_query = '''\n",
    "CREATE TABLE IF NOT EXISTS session_user_library\n",
    "(user_id text, session_id int, artist_name text, song_title text, \n",
    "item_in_session int, first_name text, last_name text,\n",
    "PRIMARY KEY ((user_id, session_id), item_in_session))\n",
    "'''\n",
    "insert_query = '''INSERT INTO session_user_library \n",
    "                  (user_id, session_id, artist_name, \n",
    "                   song_title, item_in_session, first_name, last_name) \n",
    "            VALUES (%s, %s, %s, %s, %s, %s, %s)'''\n",
    "select_query = '''\n",
    "select artist_name, song_title, first_name, last_name, item_in_session from session_user_library where \n",
    "session_id = 182 and  user_id = '10'\n",
    "'''\n",
    "selection_attr = ['artist_name', 'song_title', 'first_name', 'last_name', 'item_in_session']\n",
    "\n",
    "# Sceanrio 2 query demonstration\n",
    "workflow_run(table_name,\n",
    "             create_query, insert_query, select_query, \n",
    "             column_transformations, selection_attr)\n"
   ]
  },
  {
   "cell_type": "code",
   "execution_count": 12,
   "metadata": {},
   "outputs": [
    {
     "name": "stdout",
     "output_type": "stream",
     "text": [
      "Ran create query, table user_song_library should be created by now\n",
      "Ran insert query, insertions in table should be complete by now\n",
      "Data read complete\n"
     ]
    },
    {
     "data": {
      "text/html": [
       "<div>\n",
       "<style scoped>\n",
       "    .dataframe tbody tr th:only-of-type {\n",
       "        vertical-align: middle;\n",
       "    }\n",
       "\n",
       "    .dataframe tbody tr th {\n",
       "        vertical-align: top;\n",
       "    }\n",
       "\n",
       "    .dataframe thead th {\n",
       "        text-align: right;\n",
       "    }\n",
       "</style>\n",
       "<table border=\"1\" class=\"dataframe\">\n",
       "  <thead>\n",
       "    <tr style=\"text-align: right;\">\n",
       "      <th></th>\n",
       "      <th>first_name</th>\n",
       "      <th>last_name</th>\n",
       "    </tr>\n",
       "  </thead>\n",
       "  <tbody>\n",
       "    <tr>\n",
       "      <th>0</th>\n",
       "      <td>Jacqueline</td>\n",
       "      <td>Lynch</td>\n",
       "    </tr>\n",
       "    <tr>\n",
       "      <th>1</th>\n",
       "      <td>Tegan</td>\n",
       "      <td>Levine</td>\n",
       "    </tr>\n",
       "    <tr>\n",
       "      <th>2</th>\n",
       "      <td>Sara</td>\n",
       "      <td>Johnson</td>\n",
       "    </tr>\n",
       "  </tbody>\n",
       "</table>\n",
       "</div>"
      ],
      "text/plain": [
       "   first_name last_name\n",
       "0  Jacqueline     Lynch\n",
       "1       Tegan    Levine\n",
       "2        Sara   Johnson"
      ]
     },
     "metadata": {},
     "output_type": "display_data"
    }
   ],
   "source": [
    "## Query 3: Give me every user name (first and last) in my music app history \n",
    "## who listened to the song 'All Hands Against His Own'\n",
    "\n",
    "'''\n",
    "Query design logic::\n",
    "\n",
    "Choice of Partition keys and clustering columns:\n",
    "    - We see that the query needs to uniquely identify records based on song_title\n",
    "    - But the query also needs all historical users who have used the app\n",
    "    - Therefore, we need to partition the data based on song_title as well as the user_id as that uniquely\n",
    "    identifies all the users who have listened to a particular song\n",
    "    - No clustering columns are required since we are not sorting data on a node/partition by any column\n",
    "    in the context of this query\n",
    "    \n",
    "Choice of columns for select query:\n",
    "    - We see that the query requires user's first and last name as the output\n",
    "    - Hence the relevant output parameters are first_name and last_name\n",
    "    \n",
    "Filtering columns:\n",
    "    - The where clause is implemented on song_title as it is partitioned first on song_title \n",
    "    - Record of all users is thus available for a song_title\n",
    "'''\n",
    "\n",
    "\n",
    "\n",
    "table_name = 'user_song_library'\n",
    "column_transformations = [('song', str), ('userId', str),\n",
    "                          ('firstName', str), ('lastName', str)]\n",
    "create_query = '''\n",
    "CREATE TABLE IF NOT EXISTS user_song_library\n",
    "(song_title text, user_id text, first_name text, last_name text,\n",
    "PRIMARY KEY (song_title, user_id))\n",
    "'''\n",
    "insert_query = '''INSERT INTO user_song_library \n",
    "                  (song_title, user_id, first_name, last_name) \n",
    "            VALUES (%s, %s, %s, %s)'''\n",
    "select_query = '''\n",
    "select first_name, last_name from user_song_library where \n",
    "song_title = 'All Hands Against His Own'\n",
    "'''\n",
    "selection_attr = ['first_name', 'last_name']\n",
    "\n",
    "# Sceanrio 3 query demonstration\n",
    "workflow_run(table_name,\n",
    "             create_query, insert_query, select_query, \n",
    "             column_transformations, selection_attr)\n",
    "                    "
   ]
  },
  {
   "cell_type": "markdown",
   "metadata": {},
   "source": [
    "### Drop the tables before closing out the sessions"
   ]
  },
  {
   "cell_type": "code",
   "execution_count": 13,
   "metadata": {},
   "outputs": [
    {
     "name": "stdout",
     "output_type": "stream",
     "text": [
      "Deleting session_library\n",
      "Deleting session_user_library\n",
      "Deleting user_song_library\n"
     ]
    }
   ],
   "source": [
    "for table in ['session_library','session_user_library', 'user_song_library']:\n",
    "    delete_query = \"DROP TABLE IF EXISTS {}\".format(table)\n",
    "    print(\"Deleting {}\".format(table))\n",
    "    run_query(delete_query)"
   ]
  },
  {
   "cell_type": "markdown",
   "metadata": {},
   "source": [
    "### Close the session and cluster connection¶"
   ]
  },
  {
   "cell_type": "code",
   "execution_count": 14,
   "metadata": {},
   "outputs": [],
   "source": [
    "session.shutdown()\n",
    "cluster.shutdown()"
   ]
  },
  {
   "cell_type": "code",
   "execution_count": null,
   "metadata": {},
   "outputs": [],
   "source": []
  },
  {
   "cell_type": "code",
   "execution_count": null,
   "metadata": {},
   "outputs": [],
   "source": []
  }
 ],
 "metadata": {
  "kernelspec": {
   "display_name": "Python 3",
   "language": "python",
   "name": "python3"
  },
  "language_info": {
   "codemirror_mode": {
    "name": "ipython",
    "version": 3
   },
   "file_extension": ".py",
   "mimetype": "text/x-python",
   "name": "python",
   "nbconvert_exporter": "python",
   "pygments_lexer": "ipython3",
   "version": "3.6.3"
  }
 },
 "nbformat": 4,
 "nbformat_minor": 2
}
